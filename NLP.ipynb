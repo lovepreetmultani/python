{
  "nbformat": 4,
  "nbformat_minor": 0,
  "metadata": {
    "colab": {
      "provenance": [],
      "authorship_tag": "ABX9TyPJDkmuH+smKYwYWKDemu9d",
      "include_colab_link": true
    },
    "kernelspec": {
      "name": "python3",
      "display_name": "Python 3"
    },
    "language_info": {
      "name": "python"
    }
  },
  "cells": [
    {
      "cell_type": "markdown",
      "metadata": {
        "id": "view-in-github",
        "colab_type": "text"
      },
      "source": [
        "<a href=\"https://colab.research.google.com/github/lovepreetmultani/python/blob/main/NLP.ipynb\" target=\"_parent\"><img src=\"https://colab.research.google.com/assets/colab-badge.svg\" alt=\"Open In Colab\"/></a>"
      ]
    },
    {
      "cell_type": "code",
      "execution_count": 36,
      "metadata": {
        "colab": {
          "base_uri": "https://localhost:8080/"
        },
        "id": "pfllbKaqbyR6",
        "outputId": "80b7a7b3-39ad-4a5f-aad5-f0382687c19a"
      },
      "outputs": [
        {
          "output_type": "stream",
          "name": "stderr",
          "text": [
            "[nltk_data] Downloading package punkt to /root/nltk_data...\n",
            "[nltk_data]   Package punkt is already up-to-date!\n",
            "[nltk_data] Downloading package stopwords to /root/nltk_data...\n",
            "[nltk_data]   Unzipping corpora/stopwords.zip.\n"
          ]
        }
      ],
      "source": [
        "import nltk\n",
        "nltk.download('punkt')\n",
        "nltk.download('stopwords')\n",
        "from nltk.tokenize import word_tokenize\n",
        "from nltk.stem import PorterStemmer\n",
        "from nltk.corpus import stopwords"
      ]
    },
    {
      "cell_type": "code",
      "source": [
        "paragraph = \"\"\"Mr. Green killed Colonel Mustard in the study with the candlestick. Mr. Green is not a very nice fellow,\n",
        "    Professor Plum has a green plant in his study,\n",
        "    Miss Scarlett watered Professor Plum's green plant while he was away from his office last week.\"\"\""
      ],
      "metadata": {
        "id": "S2Ege5ktcP4d"
      },
      "execution_count": 29,
      "outputs": []
    },
    {
      "cell_type": "code",
      "source": [
        "sentences_tokenized = nltk.sent_tokenize(paragraph)"
      ],
      "metadata": {
        "id": "lR-_LMlacYjj"
      },
      "execution_count": 30,
      "outputs": []
    },
    {
      "cell_type": "code",
      "source": [
        "stemmer = PorterStemmer()"
      ],
      "metadata": {
        "id": "VK3JhIU4gVWj"
      },
      "execution_count": 39,
      "outputs": []
    },
    {
      "cell_type": "code",
      "source": [
        "stopwords.words('english')"
      ],
      "metadata": {
        "id": "V3XWuwGthons"
      },
      "execution_count": null,
      "outputs": []
    },
    {
      "cell_type": "code",
      "source": [
        "for i in range(len(sentences_tokenized)):\n",
        "  words = nltk.word_tokenize(sentences_tokenized[i])\n",
        "  words = [stemmer.stem(word) for word in words if word not in set(stopwords.words('english'))]\n",
        "  sentences_tokenized[i] = ' '.join(words)"
      ],
      "metadata": {
        "id": "vRJ7EiAbg7U1"
      },
      "execution_count": 42,
      "outputs": []
    },
    {
      "cell_type": "code",
      "source": [
        "sentences_tokenized"
      ],
      "metadata": {
        "colab": {
          "base_uri": "https://localhost:8080/"
        },
        "id": "K3lYAuNni5Qs",
        "outputId": "bc7c0e12-1359-4700-ef34-0e3b6b93be98"
      },
      "execution_count": 43,
      "outputs": [
        {
          "output_type": "execute_result",
          "data": {
            "text/plain": [
              "['mr. green kill colonel mustard studi candlestick .',\n",
              " \"mr. green nice fellow , professor plum green plant studi , miss scarlett water professor plum 's green plant away offic last week .\"]"
            ]
          },
          "metadata": {},
          "execution_count": 43
        }
      ]
    }
  ]
}