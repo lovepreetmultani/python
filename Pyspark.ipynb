{
  "nbformat": 4,
  "nbformat_minor": 0,
  "metadata": {
    "colab": {
      "provenance": [],
      "authorship_tag": "ABX9TyOxUbUFBcEb0DD0DXtvPYRw",
      "include_colab_link": true
    },
    "kernelspec": {
      "name": "python3",
      "display_name": "Python 3"
    },
    "language_info": {
      "name": "python"
    }
  },
  "cells": [
    {
      "cell_type": "markdown",
      "metadata": {
        "id": "view-in-github",
        "colab_type": "text"
      },
      "source": [
        "<a href=\"https://colab.research.google.com/github/lovepreetmultani/python/blob/main/Pyspark.ipynb\" target=\"_parent\"><img src=\"https://colab.research.google.com/assets/colab-badge.svg\" alt=\"Open In Colab\"/></a>"
      ]
    },
    {
      "cell_type": "code",
      "execution_count": 2,
      "metadata": {
        "colab": {
          "base_uri": "https://localhost:8080/"
        },
        "id": "pNrqUFQgxhbG",
        "outputId": "def0236c-5653-49d7-d35b-7454ffd19250"
      },
      "outputs": [
        {
          "output_type": "stream",
          "name": "stdout",
          "text": [
            "Looking in indexes: https://pypi.org/simple, https://us-python.pkg.dev/colab-wheels/public/simple/\n",
            "Collecting pyspark\n",
            "  Downloading pyspark-3.3.2.tar.gz (281.4 MB)\n",
            "\u001b[2K     \u001b[90m━━━━━━━━━━━━━━━━━━━━━━━━━━━━━━━━━━━━━━━\u001b[0m \u001b[32m281.4/281.4 MB\u001b[0m \u001b[31m5.2 MB/s\u001b[0m eta \u001b[36m0:00:00\u001b[0m\n",
            "\u001b[?25h  Preparing metadata (setup.py) ... \u001b[?25l\u001b[?25hdone\n",
            "Collecting py4j==0.10.9.5\n",
            "  Downloading py4j-0.10.9.5-py2.py3-none-any.whl (199 kB)\n",
            "\u001b[2K     \u001b[90m━━━━━━━━━━━━━━━━━━━━━━━━━━━━━━━━━━━━━━\u001b[0m \u001b[32m199.7/199.7 KB\u001b[0m \u001b[31m21.4 MB/s\u001b[0m eta \u001b[36m0:00:00\u001b[0m\n",
            "\u001b[?25hBuilding wheels for collected packages: pyspark\n",
            "  Building wheel for pyspark (setup.py) ... \u001b[?25l\u001b[?25hdone\n",
            "  Created wheel for pyspark: filename=pyspark-3.3.2-py2.py3-none-any.whl size=281824028 sha256=8144e710d3683843b92dc5a72fa4ecacb58c049bb664e66abd764b46690b7b76\n",
            "  Stored in directory: /root/.cache/pip/wheels/6c/e3/9b/0525ce8a69478916513509d43693511463c6468db0de237c86\n",
            "Successfully built pyspark\n",
            "Installing collected packages: py4j, pyspark\n",
            "  Attempting uninstall: py4j\n",
            "    Found existing installation: py4j 0.10.9.7\n",
            "    Uninstalling py4j-0.10.9.7:\n",
            "      Successfully uninstalled py4j-0.10.9.7\n",
            "Successfully installed py4j-0.10.9.5 pyspark-3.3.2\n"
          ]
        }
      ],
      "source": [
        "#pip install pyspark"
      ]
    },
    {
      "cell_type": "code",
      "source": [
        "from pyspark.sql import SparkSession\n",
        "from pyspark.conf import SparkConf"
      ],
      "metadata": {
        "id": "U-LgIysKzGlE"
      },
      "execution_count": 3,
      "outputs": []
    },
    {
      "cell_type": "code",
      "source": [
        "spark=SparkSession.builder\\\n",
        " .master(\"local[*]\")\\\n",
        " .appName(\"WordCount\")\\\n",
        " .getOrCreate()\n",
        "sc=spark.sparkContext"
      ],
      "metadata": {
        "id": "WcrAjv1gzb2k"
      },
      "execution_count": 4,
      "outputs": []
    },
    {
      "cell_type": "code",
      "source": [
        "from google.colab import drive \n",
        "drive.mount(\"/content/drive\")"
      ],
      "metadata": {
        "colab": {
          "base_uri": "https://localhost:8080/"
        },
        "id": "M1pzCkyk1ggU",
        "outputId": "dc88189d-11ad-470e-dea9-e32d4d91eb29"
      },
      "execution_count": 11,
      "outputs": [
        {
          "output_type": "stream",
          "name": "stdout",
          "text": [
            "Mounted at /content/drive\n"
          ]
        }
      ]
    },
    {
      "cell_type": "code",
      "source": [
        "dataPath = \"drive/My Drive/Datasets/pg4300.txt\""
      ],
      "metadata": {
        "id": "MZM2dMWS0Cax"
      },
      "execution_count": 12,
      "outputs": []
    },
    {
      "cell_type": "code",
      "source": [
        "data_rdd = sc.textFile(dataPath)\n",
        "data_rdd.take(10)"
      ],
      "metadata": {
        "colab": {
          "base_uri": "https://localhost:8080/"
        },
        "id": "ldZTgiQh0EUP",
        "outputId": "55d7c916-83ff-4541-82ce-7c83b2d83e94"
      },
      "execution_count": 14,
      "outputs": [
        {
          "output_type": "execute_result",
          "data": {
            "text/plain": [
              "['The Project Gutenberg EBook of Ulysses, by James Joyce',\n",
              " '',\n",
              " 'This eBook is for the use of anyone anywhere at no cost and with',\n",
              " 'almost no restrictions whatsoever.  You may copy it, give it away or',\n",
              " 're-use it under the terms of the Project Gutenberg License included',\n",
              " 'with this eBook or online at www.gutenberg.org',\n",
              " '',\n",
              " '',\n",
              " 'Title: Ulysses',\n",
              " '']"
            ]
          },
          "metadata": {},
          "execution_count": 14
        }
      ]
    },
    {
      "cell_type": "code",
      "source": [
        "#data_rdd.collect()"
      ],
      "metadata": {
        "id": "g4dPRrSo3AOf"
      },
      "execution_count": null,
      "outputs": []
    },
    {
      "cell_type": "code",
      "source": [
        "data_rdd.count()"
      ],
      "metadata": {
        "colab": {
          "base_uri": "https://localhost:8080/"
        },
        "id": "D3Ov60ZG2LHE",
        "outputId": "4beb49b8-c786-4cff-9c2d-8d51ddc8881a"
      },
      "execution_count": 15,
      "outputs": [
        {
          "output_type": "execute_result",
          "data": {
            "text/plain": [
              "33055"
            ]
          },
          "metadata": {},
          "execution_count": 15
        }
      ]
    },
    {
      "cell_type": "code",
      "source": [
        "def lower_clean_str(x):\n",
        " punc = '!\"#$%&\\'()*+,./:;<=>?@[\\\\]^_`{|}~-'\n",
        " lowercased_str = x.lower()\n",
        " for ch in punc:\n",
        "  lowercased_str = lowercased_str.replace(ch, '')\n",
        "  return lowercased_str  "
      ],
      "metadata": {
        "id": "KnbJoa7j2WBu"
      },
      "execution_count": 17,
      "outputs": []
    },
    {
      "cell_type": "code",
      "source": [
        "data_rdd = data_rdd.map(lower_clean_str)\n",
        "data_rdd.take(10)"
      ],
      "metadata": {
        "colab": {
          "base_uri": "https://localhost:8080/"
        },
        "id": "2-7Y2fjv2dUg",
        "outputId": "926a6cd0-68f4-4ad3-a5f5-fb9c721a72fa"
      },
      "execution_count": 18,
      "outputs": [
        {
          "output_type": "execute_result",
          "data": {
            "text/plain": [
              "['the project gutenberg ebook of ulysses, by james joyce',\n",
              " '',\n",
              " 'this ebook is for the use of anyone anywhere at no cost and with',\n",
              " 'almost no restrictions whatsoever.  you may copy it, give it away or',\n",
              " 're-use it under the terms of the project gutenberg license included',\n",
              " 'with this ebook or online at www.gutenberg.org',\n",
              " '',\n",
              " '',\n",
              " 'title: ulysses',\n",
              " '']"
            ]
          },
          "metadata": {},
          "execution_count": 18
        }
      ]
    },
    {
      "cell_type": "code",
      "source": [
        "data_rdd = data_rdd.flatMap(lambda line: line.split(\" \"))\n",
        "data_rdd.take(10)"
      ],
      "metadata": {
        "colab": {
          "base_uri": "https://localhost:8080/"
        },
        "id": "VDZ00SF-2zS7",
        "outputId": "eae86548-3bdc-4eb0-f7db-789cb8b0db2e"
      },
      "execution_count": 21,
      "outputs": [
        {
          "output_type": "execute_result",
          "data": {
            "text/plain": [
              "['the',\n",
              " 'project',\n",
              " 'gutenberg',\n",
              " 'ebook',\n",
              " 'of',\n",
              " 'ulysses,',\n",
              " 'by',\n",
              " 'james',\n",
              " 'joyce',\n",
              " '']"
            ]
          },
          "metadata": {},
          "execution_count": 21
        }
      ]
    },
    {
      "cell_type": "code",
      "source": [
        "data_rdd = data_rdd.filter(lambda x:x!= '')\n",
        "data_rdd.take(10)"
      ],
      "metadata": {
        "colab": {
          "base_uri": "https://localhost:8080/"
        },
        "id": "nvswX9K4476i",
        "outputId": "629ce25e-ca75-4952-dc34-02aa5b2f8a43"
      },
      "execution_count": 22,
      "outputs": [
        {
          "output_type": "execute_result",
          "data": {
            "text/plain": [
              "['the',\n",
              " 'project',\n",
              " 'gutenberg',\n",
              " 'ebook',\n",
              " 'of',\n",
              " 'ulysses,',\n",
              " 'by',\n",
              " 'james',\n",
              " 'joyce',\n",
              " 'this']"
            ]
          },
          "metadata": {},
          "execution_count": 22
        }
      ]
    },
    {
      "cell_type": "code",
      "source": [
        "data_count = data_rdd.map(lambda word:(word,1))\n",
        "data_count.take(5)"
      ],
      "metadata": {
        "colab": {
          "base_uri": "https://localhost:8080/"
        },
        "id": "xjkBnwM95BtT",
        "outputId": "2f0a9308-97bd-4c21-8f63-46f41a0bce24"
      },
      "execution_count": 23,
      "outputs": [
        {
          "output_type": "execute_result",
          "data": {
            "text/plain": [
              "[('the', 1), ('project', 1), ('gutenberg', 1), ('ebook', 1), ('of', 1)]"
            ]
          },
          "metadata": {},
          "execution_count": 23
        }
      ]
    },
    {
      "cell_type": "code",
      "source": [
        "data_count_RBK = data_count.reduceByKey(lambda x,y:(x+y)).sortByKey()\n",
        "data_count_RBK.take(10)"
      ],
      "metadata": {
        "colab": {
          "base_uri": "https://localhost:8080/"
        },
        "id": "zCDAkfWY5GD0",
        "outputId": "00cee75c-3075-4b5d-db84-3b6a45806772"
      },
      "execution_count": 24,
      "outputs": [
        {
          "output_type": "execute_result",
          "data": {
            "text/plain": [
              "[('\"come', 1),\n",
              " ('\"defects,\"', 1),\n",
              " ('\"i', 1),\n",
              " ('\"information', 1),\n",
              " ('\"j\"', 1),\n",
              " ('\"plain', 2),\n",
              " ('\"project', 5),\n",
              " ('\"right', 1),\n",
              " ('\"viator\"', 1),\n",
              " ('#4300]', 1)]"
            ]
          },
          "metadata": {},
          "execution_count": 24
        }
      ]
    },
    {
      "cell_type": "code",
      "source": [
        "data_count_RBK = data_count_RBK.map(lambda x:(x[1],x[0]))\n",
        "data_count_RBK.take(10)"
      ],
      "metadata": {
        "colab": {
          "base_uri": "https://localhost:8080/"
        },
        "id": "ti2nWbLc5LFo",
        "outputId": "e7bb1808-b27a-4278-cf32-db08ae5a5118"
      },
      "execution_count": 25,
      "outputs": [
        {
          "output_type": "execute_result",
          "data": {
            "text/plain": [
              "[(1, '\"come'),\n",
              " (1, '\"defects,\"'),\n",
              " (1, '\"i'),\n",
              " (1, '\"information'),\n",
              " (1, '\"j\"'),\n",
              " (2, '\"plain'),\n",
              " (5, '\"project'),\n",
              " (1, '\"right'),\n",
              " (1, '\"viator\"'),\n",
              " (1, '#4300]')]"
            ]
          },
          "metadata": {},
          "execution_count": 25
        }
      ]
    },
    {
      "cell_type": "code",
      "source": [
        "data_count_RBK.sortByKey(False).take(10)"
      ],
      "metadata": {
        "colab": {
          "base_uri": "https://localhost:8080/"
        },
        "id": "Wv7c-VUn5Ph2",
        "outputId": "0cc0fd7d-61ec-45e3-aa6c-1aea76e7f9b8"
      },
      "execution_count": 26,
      "outputs": [
        {
          "output_type": "execute_result",
          "data": {
            "text/plain": [
              "[(14854, 'the'),\n",
              " (8216, 'of'),\n",
              " (7052, 'and'),\n",
              " (6400, 'a'),\n",
              " (4914, 'to'),\n",
              " (4797, 'in'),\n",
              " (3622, 'he'),\n",
              " (3275, 'his'),\n",
              " (2487, 'with'),\n",
              " (2444, 'i')]"
            ]
          },
          "metadata": {},
          "execution_count": 26
        }
      ]
    },
    {
      "cell_type": "code",
      "source": [
        "import nltk\n",
        "nltk.download('stopwords')\n",
        "from nltk.corpus import stopwords\n",
        "stopwords = stopwords.words('english')\n",
        "stopwords"
      ],
      "metadata": {
        "id": "PnUpwm4P5YMu"
      },
      "execution_count": null,
      "outputs": []
    },
    {
      "cell_type": "code",
      "source": [
        "data_count_RBK = data_count_RBK.filter(lambda x: x[1] not in stopwords)\n",
        "data_count_RBK.sortByKey(False).take(10)"
      ],
      "metadata": {
        "colab": {
          "base_uri": "https://localhost:8080/"
        },
        "id": "WZC0FA4Q5fI-",
        "outputId": "b752f3d1-c689-4cfc-e9ae-3bf43a00b6ce"
      },
      "execution_count": 28,
      "outputs": [
        {
          "output_type": "execute_result",
          "data": {
            "text/plain": [
              "[(706, 'like'),\n",
              " (701, 'mr'),\n",
              " (583, 'one'),\n",
              " (480, 'said.'),\n",
              " (469, 'old'),\n",
              " (454, 'says'),\n",
              " (450, 'bloom'),\n",
              " (430, 'said'),\n",
              " (369, 'would'),\n",
              " (346, 'two')]"
            ]
          },
          "metadata": {},
          "execution_count": 28
        }
      ]
    },
    {
      "cell_type": "code",
      "source": [
        "data_count_RBK_sorted = data_count_RBK.sortByKey(False)\n",
        "data_count_RBK_sorted.take(10)"
      ],
      "metadata": {
        "colab": {
          "base_uri": "https://localhost:8080/"
        },
        "id": "z1wG2MQB5jNQ",
        "outputId": "5e88b6b4-d588-4d81-f76d-b913291b2461"
      },
      "execution_count": 29,
      "outputs": [
        {
          "output_type": "execute_result",
          "data": {
            "text/plain": [
              "[(706, 'like'),\n",
              " (701, 'mr'),\n",
              " (583, 'one'),\n",
              " (480, 'said.'),\n",
              " (469, 'old'),\n",
              " (454, 'says'),\n",
              " (450, 'bloom'),\n",
              " (430, 'said'),\n",
              " (369, 'would'),\n",
              " (346, 'two')]"
            ]
          },
          "metadata": {},
          "execution_count": 29
        }
      ]
    },
    {
      "cell_type": "code",
      "source": [
        "data_count_RBK_sorted.saveAsTextFile('drive/My Drive/Datasets/WordCountResults.csv')"
      ],
      "metadata": {
        "id": "5SVBxr4m6tRP"
      },
      "execution_count": 31,
      "outputs": []
    }
  ]
}